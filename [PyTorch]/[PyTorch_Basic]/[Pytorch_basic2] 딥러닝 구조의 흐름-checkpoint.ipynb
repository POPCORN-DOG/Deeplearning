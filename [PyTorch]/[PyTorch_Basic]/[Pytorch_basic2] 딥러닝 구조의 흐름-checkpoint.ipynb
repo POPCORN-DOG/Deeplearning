{
 "cells": [
  {
   "cell_type": "code",
   "execution_count": 1,
   "metadata": {},
   "outputs": [],
   "source": [
    "# 이 글은 YOUTUBE 파이토치 입문 강의를 수강하고 작성한 문서입니다.\n",
    "# https://www.youtube.com/watch?v=_4gEHlsvSZ8&t=269s&ab_channel=%EB%94%A5%EB%9F%AC%EB%8B%9D%ED%98%B8%ED%98%95DLbro"
   ]
  },
  {
   "cell_type": "markdown",
   "metadata": {},
   "source": [
    "## **딥러닝 구조의 흐름**\n",
    "- 미분을 자동적으로 계산하는 것과 그 원리를 보자.\n",
    "- 미분이라는 것은 딥러닝 연산에서 필수적인 요소 중 하나이다.\n",
    "- 파라미터를 업데이트 할 때마다 Descent method(Gradient descent method, Newton method 등등) 라는 미분값이 필요한 방법을 취하고 있기 때문이다.\n",
    "<br>\n",
    "1. 변수 선언(+데이터 입력)\n",
    "2. 모델 내 연산 예측값 산출\n",
    "3. 손실함수 계산\n",
    "4. 손실 산출"
   ]
  },
  {
   "cell_type": "markdown",
   "metadata": {},
   "source": [
    "## 1. 변수 선언(데이터 입력)\n",
    "텐서를 계산하게 된다."
   ]
  },
  {
   "cell_type": "code",
   "execution_count": 18,
   "metadata": {},
   "outputs": [
    {
     "data": {
      "text/plain": [
       "tensor([[1., 1.],\n",
       "        [1., 1.]], requires_grad=True)"
      ]
     },
     "execution_count": 18,
     "metadata": {},
     "output_type": "execute_result"
    }
   ],
   "source": [
    "#1. tensor 하나를 생성한다.\n",
    "#2. x를 기준으로 하는 함수식을 만들어 보자.\n",
    "#3. requires_grad의 default는 False이다.\n",
    "#4. requires_grad: x에 대해서 미분 할 수 있도록 x에 관한 연산들을 모두 추적할 수 있도록 한다\n",
    "import torch\n",
    "x = torch.ones(2,2, requires_grad=True);x"
   ]
  },
  {
   "cell_type": "markdown",
   "metadata": {},
   "source": [
    "## 2. 모델 내 연산 예측값 산출\n",
    "텐서를 계산하면서 y값을 산출"
   ]
  },
  {
   "cell_type": "code",
   "execution_count": 19,
   "metadata": {},
   "outputs": [
    {
     "name": "stdout",
     "output_type": "stream",
     "text": [
      "tensor([[2., 2.],\n",
      "        [2., 2.]], grad_fn=<AddBackward0>)\n"
     ]
    }
   ],
   "source": [
    "# y는 x에 대한 식이다. 즉 grad 특성을 갖는다.\n",
    "y = x + 1\n",
    "print(y)"
   ]
  },
  {
   "cell_type": "markdown",
   "metadata": {},
   "source": [
    "# 3. 손실함수 계산\n",
    "y값은 loss function에 이용 되면서 loss값을 구하게 된다."
   ]
  },
  {
   "cell_type": "code",
   "execution_count": 21,
   "metadata": {},
   "outputs": [],
   "source": [
    "# 결과값을 평균이라고 했을 때 단일 숫자 8이 나온다.\n",
    "z = 2*y**2\n",
    "res = z.mean()"
   ]
  },
  {
   "cell_type": "markdown",
   "metadata": {},
   "source": [
    "# 4. 손실 산출\n",
    "loss값 산출"
   ]
  },
  {
   "cell_type": "code",
   "execution_count": 16,
   "metadata": {},
   "outputs": [
    {
     "name": "stdout",
     "output_type": "stream",
     "text": [
      "tensor(8., grad_fn=<MeanBackward0>)\n"
     ]
    }
   ],
   "source": [
    "print(res)"
   ]
  },
  {
   "cell_type": "markdown",
   "metadata": {},
   "source": [
    "# 5. 결론\n",
    "즉, 최적화라는 것은 손실함수를 기준으로해서 각 변수마다 미분을 하게 되는 것. <br>\n",
    "그렇기 때문에 res를 기준으로 해서 미분을 하면 되는 것이며 우리의 목적은 res를 x에 대해 미분하는 값이 필요하다. "
   ]
  },
  {
   "cell_type": "code",
   "execution_count": 8,
   "metadata": {},
   "outputs": [],
   "source": [
    "# d(res)/dx_i\n",
    "# res = (z_1 + .. +z_4)/4\n",
    "# z_i = 2   y_i   **2\n",
    "# z_i = 2 (x_i+1) **2\n",
    "# # d(res)/dx_i = x_i+1\n",
    "# 즉, x의 모든 값에 +1씩 해서 [[2., 2.],[2., 2.]]\n",
    "\n",
    "# res를 기준으로 연쇄법칙을 적용하겠다.\n",
    "# backward 선언\n",
    "res.backward()"
   ]
  },
  {
   "cell_type": "code",
   "execution_count": 9,
   "metadata": {},
   "outputs": [
    {
     "name": "stdout",
     "output_type": "stream",
     "text": [
      "tensor([[2., 2.],\n",
      "        [2., 2.]])\n"
     ]
    }
   ],
   "source": [
    "print(x.grad)"
   ]
  },
  {
   "cell_type": "code",
   "execution_count": null,
   "metadata": {},
   "outputs": [],
   "source": [
    "# 그러나 실제로는 변수를 일일히 이렇게 다 설정하지 않는다.\n",
    "# 컨볼루션 리니어 액티베이션 \n",
    "import torch.nn as nn\n",
    "import torch.nnfunctional as F"
   ]
  }
 ],
 "metadata": {
  "kernelspec": {
   "display_name": "Python 3",
   "language": "python",
   "name": "python3"
  },
  "language_info": {
   "codemirror_mode": {
    "name": "ipython",
    "version": 3
   },
   "file_extension": ".py",
   "mimetype": "text/x-python",
   "name": "python",
   "nbconvert_exporter": "python",
   "pygments_lexer": "ipython3",
   "version": "3.8.5"
  }
 },
 "nbformat": 4,
 "nbformat_minor": 4
}
